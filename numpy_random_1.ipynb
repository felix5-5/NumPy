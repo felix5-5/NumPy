{
 "cells": [
  {
   "cell_type": "code",
   "execution_count": 2,
   "metadata": {},
   "outputs": [],
   "source": [
    "# Numpy\n",
    "from numpy import random"
   ]
  },
  {
   "cell_type": "code",
   "execution_count": 4,
   "metadata": {},
   "outputs": [
    {
     "name": "stdout",
     "output_type": "stream",
     "text": [
      "5\n"
     ]
    }
   ],
   "source": [
    "# Generate Random int Number:\n",
    "\n",
    "x = random.randint(100)\n",
    "\n",
    "print(x)"
   ]
  },
  {
   "cell_type": "code",
   "execution_count": null,
   "metadata": {},
   "outputs": [],
   "source": [
    "# Generate Random Float:\n",
    "\n",
    "x = random.rand()\n",
    "\n",
    "print(x)"
   ]
  },
  {
   "cell_type": "code",
   "execution_count": 8,
   "metadata": {},
   "outputs": [
    {
     "name": "stdout",
     "output_type": "stream",
     "text": [
      "[ 8 78 75 95  7]\n"
     ]
    }
   ],
   "source": [
    "# Generate Random int Array\n",
    "\n",
    "# Generate a 1-D array containing 5 random integers from 0 to 100:\n",
    "\n",
    "x=random.randint(100, size=(5))\n",
    "\n",
    "print(x)"
   ]
  },
  {
   "cell_type": "code",
   "execution_count": 9,
   "metadata": {},
   "outputs": [
    {
     "name": "stdout",
     "output_type": "stream",
     "text": [
      "[[ 9 70 41 29 44]\n",
      " [ 9 65 98 29 10]\n",
      " [87 16 39 30 59]]\n"
     ]
    }
   ],
   "source": [
    "# Generate a 2-D array with 3 rows, each row containing 5 random integers from 0 to 100:\n",
    "\n",
    "x = random.randint(100, size=(3, 5))\n",
    "\n",
    "print(x)\n"
   ]
  },
  {
   "cell_type": "code",
   "execution_count": 10,
   "metadata": {},
   "outputs": [
    {
     "name": "stdout",
     "output_type": "stream",
     "text": [
      "[0.22367022 0.55265324 0.99114961 0.50516645 0.91503549]\n"
     ]
    }
   ],
   "source": [
    "# Generate Random float Array\n",
    "\n",
    "# Generate a 1-D array containing 5 random floats:\n",
    "\n",
    "x = random.rand(5)\n",
    "\n",
    "print(x)"
   ]
  },
  {
   "cell_type": "code",
   "execution_count": 11,
   "metadata": {},
   "outputs": [
    {
     "name": "stdout",
     "output_type": "stream",
     "text": [
      "[[0.38185445 0.08416683 0.09317303 0.93788831 0.86036815]\n",
      " [0.34919953 0.74941928 0.07353471 0.50104461 0.15451797]\n",
      " [0.66463211 0.01266764 0.45745596 0.51576085 0.49668463]]\n"
     ]
    }
   ],
   "source": [
    "# Generate a 2-D array with 3 rows, each row containing 5 random float numbers:\n",
    "\n",
    "x = random.rand(3, 5)\n",
    "\n",
    "print(x)"
   ]
  },
  {
   "cell_type": "code",
   "execution_count": 20,
   "metadata": {},
   "outputs": [
    {
     "name": "stdout",
     "output_type": "stream",
     "text": [
      "7\n"
     ]
    }
   ],
   "source": [
    "# Generate Random Number From Array\n",
    "\n",
    "# Return one of the values in an array:\n",
    "\n",
    "x = random.choice([3, 5, 7, 9])\n",
    "\n",
    "print(x) "
   ]
  },
  {
   "cell_type": "code",
   "execution_count": 22,
   "metadata": {},
   "outputs": [
    {
     "name": "stdout",
     "output_type": "stream",
     "text": [
      "[[7 3 3 7 3]\n",
      " [5 3 3 5 5]\n",
      " [9 7 5 9 3]]\n"
     ]
    }
   ],
   "source": [
    "# Generating 2-D Arrays\n",
    "\n",
    "# Add a size parameter to specify the shape of the array: \n",
    "\n",
    "x = random.choice([3, 5, 7, 9], size=(3, 5))\n",
    "\n",
    "print(x)"
   ]
  },
  {
   "cell_type": "code",
   "execution_count": 26,
   "metadata": {},
   "outputs": [
    {
     "name": "stdout",
     "output_type": "stream",
     "text": [
      "[5 9 5 5 5 7 9 5 5 5 5 5 7 5 5 5 5 5 9 5 5 9 7 5 5 5 5 5 9 7 5 5 5 5 5 5 5\n",
      " 7 5 5 5 5 5 5 5 5 5 5 5 7 5 9 5 9 5 9 7 5 9 5 5 9 5 5 5 5 5 9 5 9 5 9 9 5\n",
      " 5 5 5 5 5 5 5 5 5 7 9 5 7 5 9 5 9 5 5 5 5 5 7 5 5 5]\n"
     ]
    }
   ],
   "source": [
    "# Random Distribution\n",
    "\n",
    "# Generate a 1-D array containing 100 values, where each value has to be 3, 5, 7 or 9.\n",
    "# The probability for the value to be 3 is set to be 0.0 = 0%\n",
    "# The probability for the value to be 5 is set to be 0.8 = 80%\n",
    "# The probability for the value to be 7 is set to be 0.1 = 10%\n",
    "# The probability for the value to be 9 is set to be 0.1 = 10%\n",
    "\n",
    "x = random.choice([3, 5, 7, 9], p=[0, 0.8, 0.1, 0.1], size=(100))\n",
    "\n",
    "print(x)\n"
   ]
  },
  {
   "cell_type": "code",
   "execution_count": 28,
   "metadata": {},
   "outputs": [
    {
     "name": "stdout",
     "output_type": "stream",
     "text": [
      "[[9 5 5 5 9]\n",
      " [5 7 5 5 9]\n",
      " [5 5 5 5 5]]\n"
     ]
    }
   ],
   "source": [
    "# Generate a 2-D array with 3 rows, each containing 5 values.\n",
    "# The probability for the value to be 3 is set to be 0.0 = 0%\n",
    "# The probability for the value to be 5 is set to be 0.8 = 80%\n",
    "# The probability for the value to be 7 is set to be 0.1 = 10%\n",
    "# The probability for the value to be 9 is set to be 0.1 = 10%\n",
    "\n",
    "x = random.choice([3, 5, 7, 9], p=[0, 0.8, 0.1, 0.1], size=(3, 5))\n",
    "\n",
    "print(x)"
   ]
  },
  {
   "cell_type": "code",
   "execution_count": 30,
   "metadata": {},
   "outputs": [
    {
     "name": "stdout",
     "output_type": "stream",
     "text": [
      "[5 2 4 1 3]\n"
     ]
    }
   ],
   "source": [
    "# Random Permutations of Elements\n",
    "\n",
    "# Shuffling Arrays:\n",
    "import numpy as np\n",
    "\n",
    "arr = np.array([1, 2, 3, 4, 5])\n",
    "\n",
    "random.shuffle(arr)\n",
    "\n",
    "print(arr)\n",
    "\n",
    "# The shuffle() method makes changes to the original array."
   ]
  },
  {
   "cell_type": "code",
   "execution_count": 32,
   "metadata": {},
   "outputs": [
    {
     "name": "stdout",
     "output_type": "stream",
     "text": [
      "[3 1 5 2 4]\n"
     ]
    }
   ],
   "source": [
    "# Generating Permutation of Arrays:\n",
    "\n",
    "arr = np.array([1, 2, 3, 4, 5])\n",
    "\n",
    "arr_2 = (random.permutation(arr))\n",
    "\n",
    "print(arr_2)\n",
    "\n",
    "# The permutation() method returns a re-arranged array (and leaves the original array un-changed)."
   ]
  },
  {
   "cell_type": "code",
   "execution_count": null,
   "metadata": {},
   "outputs": [],
   "source": []
  }
 ],
 "metadata": {
  "kernelspec": {
   "display_name": "Python 3.10.5 64-bit",
   "language": "python",
   "name": "python3"
  },
  "language_info": {
   "codemirror_mode": {
    "name": "ipython",
    "version": 3
   },
   "file_extension": ".py",
   "mimetype": "text/x-python",
   "name": "python",
   "nbconvert_exporter": "python",
   "pygments_lexer": "ipython3",
   "version": "3.10.5"
  },
  "orig_nbformat": 4,
  "vscode": {
   "interpreter": {
    "hash": "6a6b9ec4f368969439d3462b4acc9aa73777ebae30d8dd050874c689edd90bec"
   }
  }
 },
 "nbformat": 4,
 "nbformat_minor": 2
}
