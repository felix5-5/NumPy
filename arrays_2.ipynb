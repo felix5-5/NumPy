{
 "cells": [
  {
   "cell_type": "code",
   "execution_count": 2,
   "metadata": {},
   "outputs": [
    {
     "name": "stdout",
     "output_type": "stream",
     "text": [
      "[2 3 4 5]\n",
      "From the second array, slice elements from index 1 to index 4 (not included): [7 8 9]\n",
      "From both elements, return index 0: [1 6]\n",
      "From both elements, return elementos from index 1 to to index 4 (not included): [[2 3 4]\n",
      " [7 8 9]]\n"
     ]
    }
   ],
   "source": [
    "# Numpy\n",
    "import numpy as np\n",
    "\n",
    "# Array Slicing:\n",
    "\n",
    "# Slicing 1-D Arrays:\n",
    "arr_1 = np.array([1, 2, 3, 4, 5, 6, 7])\n",
    "\n",
    "print(arr_1[1:5])\n",
    "\n",
    "# Slicing 2-D Arrays:\n",
    "arr_2 = np.array([[1, 2, 3, 4, 5], [6, 7, 8, 9, 10]])\n",
    "\n",
    "print(\"From the second array, slice elements from index 1 to index 4 (not included):\", arr_2[1, 1:4])\n",
    "print(\"From both elements, return index 0:\", arr_2[0:2, 0])\n",
    "print(\"From both elements, return elementos from index 1 to to index 4 (not included):\", arr_2[0:2, 1:4])\n",
    "\n"
   ]
  },
  {
   "cell_type": "code",
   "execution_count": 14,
   "metadata": {},
   "outputs": [
    {
     "name": "stdout",
     "output_type": "stream",
     "text": [
      "int32\n"
     ]
    }
   ],
   "source": [
    "# Data Types:\n",
    "\n",
    "# i - integer\n",
    "# b - boolean\n",
    "# u - unsigned integer (non-negative)\n",
    "# f - float\n",
    "# c - complex float\n",
    "# m - timedelta\n",
    "# M - datetime\n",
    "# O - object\n",
    "# S - string\n",
    "# U - unicode string\n",
    "# V - fixed chunk of memory for other type ( void )\n",
    "\n",
    "# Checking the Data Type of an Array:\n",
    "\n",
    "arr = np.array([1, 2, 3, 4])\n",
    "\n",
    "print(arr.dtype)\n"
   ]
  },
  {
   "cell_type": "code",
   "execution_count": 18,
   "metadata": {},
   "outputs": [
    {
     "name": "stdout",
     "output_type": "stream",
     "text": [
      "[b'1' b'2' b'3' b'4']\n",
      "|S1\n"
     ]
    }
   ],
   "source": [
    "# Creating Arrays With a Defined Data Type:\n",
    "\n",
    "arr = np.array([1, 2, 3, 4], dtype=\"S\") # Array with data type string\n",
    "\n",
    "print(arr)\n",
    "print(arr.dtype)"
   ]
  },
  {
   "cell_type": "code",
   "execution_count": 17,
   "metadata": {},
   "outputs": [
    {
     "name": "stdout",
     "output_type": "stream",
     "text": [
      "[1 2 3]\n",
      "int32\n"
     ]
    }
   ],
   "source": [
    "# Converting Data Type on Existing Arrays:\n",
    "\n",
    "arr = np.array([1.1, 2.1, 3.1])\n",
    "\n",
    "newarr = arr.astype(\"i\") # Converts from float to integer\n",
    "\n",
    "print(newarr)\n",
    "print(newarr.dtype)"
   ]
  },
  {
   "cell_type": "code",
   "execution_count": 4,
   "metadata": {},
   "outputs": [
    {
     "name": "stdout",
     "output_type": "stream",
     "text": [
      "[1 2 3 4 5]\n",
      "[1 2 3 4 5]\n",
      "[1 2 3 4 5]\n",
      "\n",
      "\n",
      "[1 2 3 4 5]\n",
      "[34  2  3  4  5]\n",
      "\n",
      "\n",
      "[34  2  3  4  5]\n",
      "[34  2  3  4  5]\n",
      "\n",
      "\n",
      "None\n"
     ]
    }
   ],
   "source": [
    "# Array Copy and View:\n",
    "\n",
    "arr = np.array([1, 2, 3, 4, 5])\n",
    "\n",
    "# Copy:\n",
    "x = arr.copy()\n",
    "\n",
    "# View:\n",
    "y = arr.view()\n",
    "\n",
    "print(arr)\n",
    "print(x)\n",
    "print(y)\n",
    "\n",
    "print(\"\\n\")\n",
    "\n",
    "# The copy owns the data and any changes made to the copy will not affect original array, and any changes made to the original array will not affect the copy.\n",
    "\n",
    "x[0] = (34)\n",
    "print(arr)\n",
    "print(x)\n",
    "\n",
    "print(\"\\n\")\n",
    "\n",
    "# The view does not own the data and any changes made to the view will affect the original array, and any changes made to the original array will affect the view.\n",
    "\n",
    "y[0] = (34)\n",
    "print(arr)\n",
    "print(x)\n",
    "\n",
    "print(\"\\n\")"
   ]
  },
  {
   "cell_type": "code",
   "execution_count": null,
   "metadata": {},
   "outputs": [],
   "source": []
  }
 ],
 "metadata": {
  "kernelspec": {
   "display_name": "Python 3.10.5 64-bit",
   "language": "python",
   "name": "python3"
  },
  "language_info": {
   "codemirror_mode": {
    "name": "ipython",
    "version": 3
   },
   "file_extension": ".py",
   "mimetype": "text/x-python",
   "name": "python",
   "nbconvert_exporter": "python",
   "pygments_lexer": "ipython3",
   "version": "3.10.5"
  },
  "orig_nbformat": 4,
  "vscode": {
   "interpreter": {
    "hash": "6a6b9ec4f368969439d3462b4acc9aa73777ebae30d8dd050874c689edd90bec"
   }
  }
 },
 "nbformat": 4,
 "nbformat_minor": 2
}
