{
 "cells": [
  {
   "cell_type": "code",
   "execution_count": 1,
   "metadata": {},
   "outputs": [
    {
     "name": "stdout",
     "output_type": "stream",
     "text": [
      "<class 'numpy.ndarray'>\n"
     ]
    }
   ],
   "source": [
    "#Numpy\n",
    "import numpy as np\n",
    "\n",
    "# Create an Array:\n",
    "arr = np.array([1,2,3,4,5])\n",
    "\n",
    "print(type(arr))"
   ]
  },
  {
   "cell_type": "code",
   "execution_count": 2,
   "metadata": {},
   "outputs": [
    {
     "name": "stdout",
     "output_type": "stream",
     "text": [
      "0\n",
      "1\n",
      "2\n",
      "3\n",
      "[[[[[1 2 3]]]]]\n"
     ]
    }
   ],
   "source": [
    "# Arrays Dimensions\n",
    "\n",
    "# 0-D Arrays:\n",
    "arr_0_d = np.array(5)\n",
    "\n",
    "# 1-D Arrays:\n",
    "arr_1_d = np.array([1,2,3,4,5])\n",
    "\n",
    "# 2-D Arrays:\n",
    "arr_2_d = np.array([[1,2,3,4,5], [1,2,3,4,5]])\n",
    "\n",
    "# 3-D Arrays:\n",
    "arr_3_d = np.array([[[1,2,3,4,5], [6,7,8,9,10]], [[1,2,3,4,5], [6,7,8,9,10]]])\n",
    "\n",
    "# Check the number of dimentions: \n",
    "print(arr_0_d.ndim)\n",
    "print(arr_1_d.ndim)\n",
    "print(arr_2_d.ndim)\n",
    "print(arr_3_d.ndim)\n",
    "\n",
    "# Higher Dimensional Arrays:\n",
    "\n",
    "high_dimentional_array = np.array([1,2,3], ndmin=5)\n",
    "\n",
    "print(high_dimentional_array)"
   ]
  },
  {
   "cell_type": "code",
   "execution_count": 3,
   "metadata": {},
   "outputs": [
    {
     "name": "stdout",
     "output_type": "stream",
     "text": [
      "1\n",
      "first element of first array: 1\n",
      "first element of second array: 6\n",
      "first element of the first array of the first array: 11\n",
      "second element of the second array of the first array: 46\n",
      "first element of the second array of the second array 55\n",
      "last element from array: 5\n",
      "last elemente from second array 10\n"
     ]
    }
   ],
   "source": [
    "# Array Indexing:\n",
    "arr = np.array([1,2,3,4,5])\n",
    "\n",
    "print(arr[0])\n",
    "\n",
    "# Acess 2-D Arrays:\n",
    "arr_2_d = np.array([[1,2,3,4,5], [6,7,8,9,10]])\n",
    "\n",
    "print(\"first element of first array:\", arr_2_d[0, 0])\n",
    "print(\"first element of second array:\", arr_2_d[1, 0])\n",
    "\n",
    "# Acess 3-D Arrays: \n",
    "arr_3_d = np.array([[[11, 23, 44], [33, 46, 77]], [[99, 89, 78], [55, 24, 31]]])\n",
    "\n",
    "print(\"first element of the first array of the first array:\", arr_3_d[0, 0, 0])\n",
    "print(\"second element of the second array of the first array:\", arr_3_d[0, 1, 1])\n",
    "print(\"first element of the second array of the second array\", arr_3_d[1, 1, 0])\n",
    "\n",
    "# Negative Indexing: \n",
    "arr = np.array([1,2,3,4,5])\n",
    "\n",
    "print(\"last element from array:\", arr[-1])\n",
    "arr_2_d = np.array([[1,2,3,4,5], [6,7,8,9,10]])\n",
    "\n",
    "print(\"last elemente from second array\", arr_2_d[-1, -1])"
   ]
  }
 ],
 "metadata": {
  "kernelspec": {
   "display_name": "Python 3.10.5 64-bit",
   "language": "python",
   "name": "python3"
  },
  "language_info": {
   "codemirror_mode": {
    "name": "ipython",
    "version": 3
   },
   "file_extension": ".py",
   "mimetype": "text/x-python",
   "name": "python",
   "nbconvert_exporter": "python",
   "pygments_lexer": "ipython3",
   "version": "3.10.5"
  },
  "orig_nbformat": 4,
  "vscode": {
   "interpreter": {
    "hash": "6a6b9ec4f368969439d3462b4acc9aa73777ebae30d8dd050874c689edd90bec"
   }
  }
 },
 "nbformat": 4,
 "nbformat_minor": 2
}
